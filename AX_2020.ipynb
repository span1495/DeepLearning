{
  "nbformat": 4,
  "nbformat_minor": 0,
  "metadata": {
    "colab": {
      "name": "AX-2020.ipynb",
      "provenance": [],
      "collapsed_sections": [],
      "toc_visible": true
    },
    "kernelspec": {
      "name": "python3",
      "display_name": "Python 3"
    },
    "accelerator": "GPU",
    "widgets": {
      "application/vnd.jupyter.widget-state+json": {
        "616fdddc2e124a9cb5cd065959df244b": {
          "model_module": "@jupyter-widgets/controls",
          "model_name": "HBoxModel",
          "state": {
            "_view_name": "HBoxView",
            "_dom_classes": [],
            "_model_name": "HBoxModel",
            "_view_module": "@jupyter-widgets/controls",
            "_model_module_version": "1.5.0",
            "_view_count": null,
            "_view_module_version": "1.5.0",
            "box_style": "",
            "layout": "IPY_MODEL_f6067e22359f453ea9a07dc8186463e3",
            "_model_module": "@jupyter-widgets/controls",
            "children": [
              "IPY_MODEL_ab5c1a5344354ef8a4b030fc2ca70248",
              "IPY_MODEL_5c33014bd926497f83208df507160959"
            ]
          }
        },
        "f6067e22359f453ea9a07dc8186463e3": {
          "model_module": "@jupyter-widgets/base",
          "model_name": "LayoutModel",
          "state": {
            "_view_name": "LayoutView",
            "grid_template_rows": null,
            "right": null,
            "justify_content": null,
            "_view_module": "@jupyter-widgets/base",
            "overflow": null,
            "_model_module_version": "1.2.0",
            "_view_count": null,
            "flex_flow": null,
            "width": null,
            "min_width": null,
            "border": null,
            "align_items": null,
            "bottom": null,
            "_model_module": "@jupyter-widgets/base",
            "top": null,
            "grid_column": null,
            "overflow_y": null,
            "overflow_x": null,
            "grid_auto_flow": null,
            "grid_area": null,
            "grid_template_columns": null,
            "flex": null,
            "_model_name": "LayoutModel",
            "justify_items": null,
            "grid_row": null,
            "max_height": null,
            "align_content": null,
            "visibility": null,
            "align_self": null,
            "height": null,
            "min_height": null,
            "padding": null,
            "grid_auto_rows": null,
            "grid_gap": null,
            "max_width": null,
            "order": null,
            "_view_module_version": "1.2.0",
            "grid_template_areas": null,
            "object_position": null,
            "object_fit": null,
            "grid_auto_columns": null,
            "margin": null,
            "display": null,
            "left": null
          }
        },
        "ab5c1a5344354ef8a4b030fc2ca70248": {
          "model_module": "@jupyter-widgets/controls",
          "model_name": "IntProgressModel",
          "state": {
            "_view_name": "ProgressView",
            "style": "IPY_MODEL_9143c10eae964b8b8f592c50982139ad",
            "_dom_classes": [],
            "description": "",
            "_model_name": "IntProgressModel",
            "bar_style": "success",
            "max": 5017600,
            "_view_module": "@jupyter-widgets/controls",
            "_model_module_version": "1.5.0",
            "value": 5017600,
            "_view_count": null,
            "_view_module_version": "1.5.0",
            "orientation": "horizontal",
            "min": 0,
            "description_tooltip": null,
            "_model_module": "@jupyter-widgets/controls",
            "layout": "IPY_MODEL_12a5d6736de64dee9d73a078f4e1863b"
          }
        },
        "5c33014bd926497f83208df507160959": {
          "model_module": "@jupyter-widgets/controls",
          "model_name": "HTMLModel",
          "state": {
            "_view_name": "HTMLView",
            "style": "IPY_MODEL_478be5e2e04d4251bc8e1f863cc2b288",
            "_dom_classes": [],
            "description": "",
            "_model_name": "HTMLModel",
            "placeholder": "​",
            "_view_module": "@jupyter-widgets/controls",
            "_model_module_version": "1.5.0",
            "value": "100% 4.79M/4.79M [00:00&lt;00:00, 51.6MB/s]",
            "_view_count": null,
            "_view_module_version": "1.5.0",
            "description_tooltip": null,
            "_model_module": "@jupyter-widgets/controls",
            "layout": "IPY_MODEL_91f9985e44a8490a908dc3d78ec15725"
          }
        },
        "9143c10eae964b8b8f592c50982139ad": {
          "model_module": "@jupyter-widgets/controls",
          "model_name": "ProgressStyleModel",
          "state": {
            "_view_name": "StyleView",
            "_model_name": "ProgressStyleModel",
            "description_width": "",
            "_view_module": "@jupyter-widgets/base",
            "_model_module_version": "1.5.0",
            "_view_count": null,
            "_view_module_version": "1.2.0",
            "bar_color": null,
            "_model_module": "@jupyter-widgets/controls"
          }
        },
        "12a5d6736de64dee9d73a078f4e1863b": {
          "model_module": "@jupyter-widgets/base",
          "model_name": "LayoutModel",
          "state": {
            "_view_name": "LayoutView",
            "grid_template_rows": null,
            "right": null,
            "justify_content": null,
            "_view_module": "@jupyter-widgets/base",
            "overflow": null,
            "_model_module_version": "1.2.0",
            "_view_count": null,
            "flex_flow": null,
            "width": null,
            "min_width": null,
            "border": null,
            "align_items": null,
            "bottom": null,
            "_model_module": "@jupyter-widgets/base",
            "top": null,
            "grid_column": null,
            "overflow_y": null,
            "overflow_x": null,
            "grid_auto_flow": null,
            "grid_area": null,
            "grid_template_columns": null,
            "flex": null,
            "_model_name": "LayoutModel",
            "justify_items": null,
            "grid_row": null,
            "max_height": null,
            "align_content": null,
            "visibility": null,
            "align_self": null,
            "height": null,
            "min_height": null,
            "padding": null,
            "grid_auto_rows": null,
            "grid_gap": null,
            "max_width": null,
            "order": null,
            "_view_module_version": "1.2.0",
            "grid_template_areas": null,
            "object_position": null,
            "object_fit": null,
            "grid_auto_columns": null,
            "margin": null,
            "display": null,
            "left": null
          }
        },
        "478be5e2e04d4251bc8e1f863cc2b288": {
          "model_module": "@jupyter-widgets/controls",
          "model_name": "DescriptionStyleModel",
          "state": {
            "_view_name": "StyleView",
            "_model_name": "DescriptionStyleModel",
            "description_width": "",
            "_view_module": "@jupyter-widgets/base",
            "_model_module_version": "1.5.0",
            "_view_count": null,
            "_view_module_version": "1.2.0",
            "_model_module": "@jupyter-widgets/controls"
          }
        },
        "91f9985e44a8490a908dc3d78ec15725": {
          "model_module": "@jupyter-widgets/base",
          "model_name": "LayoutModel",
          "state": {
            "_view_name": "LayoutView",
            "grid_template_rows": null,
            "right": null,
            "justify_content": null,
            "_view_module": "@jupyter-widgets/base",
            "overflow": null,
            "_model_module_version": "1.2.0",
            "_view_count": null,
            "flex_flow": null,
            "width": null,
            "min_width": null,
            "border": null,
            "align_items": null,
            "bottom": null,
            "_model_module": "@jupyter-widgets/base",
            "top": null,
            "grid_column": null,
            "overflow_y": null,
            "overflow_x": null,
            "grid_auto_flow": null,
            "grid_area": null,
            "grid_template_columns": null,
            "flex": null,
            "_model_name": "LayoutModel",
            "justify_items": null,
            "grid_row": null,
            "max_height": null,
            "align_content": null,
            "visibility": null,
            "align_self": null,
            "height": null,
            "min_height": null,
            "padding": null,
            "grid_auto_rows": null,
            "grid_gap": null,
            "max_width": null,
            "order": null,
            "_view_module_version": "1.2.0",
            "grid_template_areas": null,
            "object_position": null,
            "object_fit": null,
            "grid_auto_columns": null,
            "margin": null,
            "display": null,
            "left": null
          }
        }
      }
    }
  },
  "cells": [
    {
      "cell_type": "markdown",
      "metadata": {
        "id": "XPGeZj-vE2iM",
        "colab_type": "text"
      },
      "source": [
        "# Introduction\n"
      ]
    },
    {
      "cell_type": "markdown",
      "metadata": {
        "id": "RPAhhURq5bpg",
        "colab_type": "text"
      },
      "source": [
        "We will try to solve the problem of Image Recognition for a particular dataset. We will use pre-trained Network's architectures to complete this task. We will fine-tune our network properly , based on our dataset , in order to improve its efficiency and accuracy.\n",
        "> \n",
        "We get two datasets with random objects from the www.vision.caltech.edu. We hold only the categories/classes that have more than 100 images for its class. In addition to that we do not want our class to have more than 200 images. This way we manage to have a balanced dataset , since every class will have almost the same number of datapoints. The task of object recognition is not a hard one. Therefore , we added a lot of different classes in order to increase the complexity of our dataset and of our task. Some classes are closely-related , so the distintion between this two classes will be a bit more challenging for our model .\n",
        ">\n",
        "For our task we will use VGG and SqueezeNet pretrained models. Both models are well suitable for image recognition, and have been pretrained in a big range of images classes. Therefore we will fine tune them , and test them on our dataset. In the end we will compare these two models and a baseline model, to see their efficiency, their advantages and disadvantages."
      ]
    },
    {
      "cell_type": "markdown",
      "metadata": {
        "id": "8DzMFykaHBkG",
        "colab_type": "text"
      },
      "source": [
        "# Getting the Data\n"
      ]
    },
    {
      "cell_type": "code",
      "metadata": {
        "id": "WPbzBIQ_E1JT",
        "colab_type": "code",
        "outputId": "fd04b0a9-4de9-4aaa-a0c1-db841546b2f5",
        "colab": {
          "base_uri": "https://localhost:8080/",
          "height": 204
        }
      },
      "source": [
        "!wget http://www.vision.caltech.edu/Image_Datasets/Caltech101/101_ObjectCategories.tar.gz\n",
        "local_file = \"101_ObjectCategories.tar.gz\""
      ],
      "execution_count": 2,
      "outputs": [
        {
          "output_type": "stream",
          "text": [
            "--2020-03-09 16:19:11--  http://www.vision.caltech.edu/Image_Datasets/Caltech101/101_ObjectCategories.tar.gz\n",
            "Resolving www.vision.caltech.edu (www.vision.caltech.edu)... 34.208.54.77\n",
            "Connecting to www.vision.caltech.edu (www.vision.caltech.edu)|34.208.54.77|:80... connected.\n",
            "HTTP request sent, awaiting response... 200 OK\n",
            "Length: 131740031 (126M) [application/x-tar]\n",
            "Saving to: ‘101_ObjectCategories.tar.gz’\n",
            "\n",
            "101_ObjectCategorie 100%[===================>] 125.64M  27.5MB/s    in 4.6s    \n",
            "\n",
            "2020-03-09 16:19:15 (27.4 MB/s) - ‘101_ObjectCategories.tar.gz’ saved [131740031/131740031]\n",
            "\n"
          ],
          "name": "stdout"
        }
      ]
    },
    {
      "cell_type": "code",
      "metadata": {
        "id": "iD2LV3nc2ajE",
        "colab_type": "code",
        "outputId": "4434e1c4-878f-4d48-bf45-2c7a6e3b7aff",
        "colab": {
          "base_uri": "https://localhost:8080/",
          "height": 204
        }
      },
      "source": [
        "!wget http://www.vision.caltech.edu/Image_Datasets/Caltech256/256_ObjectCategories.tar"
      ],
      "execution_count": 24,
      "outputs": [
        {
          "output_type": "stream",
          "text": [
            "--2020-03-09 16:22:35--  http://www.vision.caltech.edu/Image_Datasets/Caltech256/256_ObjectCategories.tar\n",
            "Resolving www.vision.caltech.edu (www.vision.caltech.edu)... 34.208.54.77\n",
            "Connecting to www.vision.caltech.edu (www.vision.caltech.edu)|34.208.54.77|:80... connected.\n",
            "HTTP request sent, awaiting response... 200 OK\n",
            "Length: 1183006720 (1.1G) [application/x-tar]\n",
            "Saving to: ‘256_ObjectCategories.tar’\n",
            "\n",
            "256_ObjectCategorie 100%[===================>]   1.10G  35.9MB/s    in 37s     \n",
            "\n",
            "2020-03-09 16:23:13 (30.2 MB/s) - ‘256_ObjectCategories.tar’ saved [1183006720/1183006720]\n",
            "\n"
          ],
          "name": "stdout"
        }
      ]
    },
    {
      "cell_type": "code",
      "metadata": {
        "id": "yDb-8nzf9An7",
        "colab_type": "code",
        "colab": {}
      },
      "source": [
        "!tar -xf \"101_ObjectCategories.tar.gz\""
      ],
      "execution_count": 0,
      "outputs": []
    },
    {
      "cell_type": "code",
      "metadata": {
        "id": "sRSlvYdm2yTm",
        "colab_type": "code",
        "colab": {}
      },
      "source": [
        "!tar -xf \"256_ObjectCategories.tar\""
      ],
      "execution_count": 0,
      "outputs": []
    },
    {
      "cell_type": "code",
      "metadata": {
        "id": "cO7NAgp686sX",
        "colab_type": "code",
        "colab": {}
      },
      "source": [
        "\n",
        "import os\n",
        "import shutil   \n",
        "class_names = os.listdir(\"./101_ObjectCategories\")\n",
        "ok_class_names = []\n",
        "for class_name in class_names:\n",
        "  x = os.listdir(\"./101_ObjectCategories/\"+class_name)\n",
        "  if len(x)>100 and len(x)<200:\n",
        "    ok_class_names.append(class_name)\n",
        "  else:\n",
        "    shutil.rmtree(\"./101_ObjectCategories/\"+class_name)"
      ],
      "execution_count": 0,
      "outputs": []
    },
    {
      "cell_type": "code",
      "metadata": {
        "id": "elZOxKfX3YRL",
        "colab_type": "code",
        "colab": {}
      },
      "source": [
        "from pprint import pprint\n",
        "class_names = os.listdir(\"./256_ObjectCategories\")\n",
        "for class_name in class_names:\n",
        "  x = os.listdir(\"./256_ObjectCategories/\"+class_name)\n",
        "  if len(x)>100 and len(x)<200:\n",
        "    splits = class_name.split(\".\")\n",
        "    ok_class_names.append(splits[1])\n",
        "  else:\n",
        "    shutil.rmtree(\"./256_ObjectCategories/\"+class_name)\n",
        "num_classes = len(ok_class_names)\n",
        "\n"
      ],
      "execution_count": 0,
      "outputs": []
    },
    {
      "cell_type": "markdown",
      "metadata": {
        "id": "NTgemV3W73NT",
        "colab_type": "text"
      },
      "source": [
        "Here we can see the list of the objects, that our model will be trained to classify.\n"
      ]
    },
    {
      "cell_type": "code",
      "metadata": {
        "id": "h6mGJ1x-78gu",
        "colab_type": "code",
        "outputId": "624981fb-18b6-4a31-cba7-2b40220f02ff",
        "colab": {
          "base_uri": "https://localhost:8080/",
          "height": 54
        }
      },
      "source": [
        "print(ok_class_names)\n"
      ],
      "execution_count": 51,
      "outputs": [
        {
          "output_type": "stream",
          "text": [
            "['chandelier', 'bonsai', 'car_side', 'ketch', 'spoon', 'bulldozer', 'tweezer', 'laptop-101', 'knife', 'baseball-bat', 'leopards-101', 'screwdriver', 'cactus', 'snake', 'computer-monitor', 'head-phones', 'bat', 'octopus', 'diamond-ring', 'canoe', 'cartman', 'rifle', 'breadmaker', 'owl', 'cormorant', 'boxing-glove', 'photocopier', 'electric-guitar-101', 'elephant-101', 'tennis-court', 'ketch-101', 'dolphin-101', 'tomato', 'mars', 'ibis-101', 'kayak', 'hummingbird', 'syringe', 'penguin', 'snowmobile', 'microscope', 'spider', 'pci-card', 'elk', 'porcupine', 'car-side-101', 'iguana', 'tripod', 'backpack', 'rainbow', 'dog', 'grasshopper', 'socks', 'cannon', 'saddle', 'mattress', 'joy-stick', 'swiss-army-knife', 'dumb-bell', 'cockroach', 'bowling-pin', 'skateboard', 'light-house', 'soccer-ball', 'cake', 'swan', 'bowling-ball', 'necktie', 'treadmill', 'toad', 'touring-bike', 'teddy-bear', 'tennis-shoes', 'fern', 'ostrich', 'butterfly', 'camel', 'chimp', 'teapot', 'fire-truck', 'spaghetti', 'guitar-pick', 'bonsai-101', 'sneaker', 'goat', 'cd', 'baseball-glove', 'hot-tub', 'self-propelled-lawn-mower', 'umbrella-101', 'minaret', 'ipod', 'flashlight', 'mussels', 'lightning', 'coin', 'microwave', 'chess-board', 'frog', 'bear', 'hibiscus', 'conch', 'lathe', 'teepee', 'comet', 'wine-bottle', 'iris', 'raccoon', 'llama-101', 'goose', 'cowboy-hat', 'chandelier-101', 'snail', 'palm-tree', 'sword']\n"
          ],
          "name": "stdout"
        }
      ]
    },
    {
      "cell_type": "markdown",
      "metadata": {
        "id": "hD5En7UtHJzI",
        "colab_type": "text"
      },
      "source": [
        "Spliting the data folders properly, in order to load them to our models."
      ]
    },
    {
      "cell_type": "code",
      "metadata": {
        "id": "JR5WuuxWpvCd",
        "colab_type": "code",
        "outputId": "4cc29520-6327-4037-cbb1-6fd461b3f7e0",
        "colab": {
          "base_uri": "https://localhost:8080/",
          "height": 34
        }
      },
      "source": [
        "!pip install split-folders\n"
      ],
      "execution_count": 29,
      "outputs": [
        {
          "output_type": "stream",
          "text": [
            "Requirement already satisfied: split-folders in /usr/local/lib/python3.6/dist-packages (0.3.1)\n"
          ],
          "name": "stdout"
        }
      ]
    },
    {
      "cell_type": "markdown",
      "metadata": {
        "id": "YVwjvHqzWMx2",
        "colab_type": "text"
      },
      "source": [
        "  We split the folders  to train, validation and test. This way our Dataloader will be able to load the data with their labels to our our train , validation and test dataset accordingly."
      ]
    },
    {
      "cell_type": "code",
      "metadata": {
        "id": "-ng31xk2qFat",
        "colab_type": "code",
        "outputId": "2257c709-92e3-41b2-a026-79e85c6debcf",
        "colab": {
          "base_uri": "https://localhost:8080/",
          "height": 51
        }
      },
      "source": [
        "import split_folders\n",
        "\n",
        "split_folders.ratio(\"101_ObjectCategories\", output=\"output\", seed=1337, ratio=(.7, .2, .1)) # default values\n",
        "split_folders.ratio(\"256_ObjectCategories\", output=\"output\", seed=1337, ratio=(.7, .2, .1)) # default values\n"
      ],
      "execution_count": 48,
      "outputs": [
        {
          "output_type": "stream",
          "text": [
            "Copying files: 472 files [00:00, 6606.75 files/s]\n",
            "Copying files: 13094 files [00:02, 5255.61 files/s]\n"
          ],
          "name": "stderr"
        }
      ]
    },
    {
      "cell_type": "markdown",
      "metadata": {
        "id": "zWib5QzbMH3O",
        "colab_type": "text"
      },
      "source": [
        "# VGG Model\n"
      ]
    },
    {
      "cell_type": "code",
      "metadata": {
        "id": "LOhbLZK-G9H1",
        "colab_type": "code",
        "outputId": "f638c68b-9045-406c-9846-707cbe223f4f",
        "colab": {
          "base_uri": "https://localhost:8080/",
          "height": 51
        }
      },
      "source": [
        "import torchvision.models as models\n",
        "from __future__ import print_function\n",
        "from __future__ import division\n",
        "import torch\n",
        "import torch.nn as nn\n",
        "import torch.optim as optim\n",
        "import numpy as np\n",
        "import torchvision\n",
        "from torchvision import datasets, models, transforms\n",
        "import matplotlib.pyplot as plt\n",
        "import time\n",
        "import os\n",
        "import copy\n",
        "\n",
        "print(\"PyTorch Version: \",torch.__version__)\n",
        "print(\"Torchvision Version: \",torchvision.__version__)\n",
        "data_dir = \"./output/\"\n",
        "model_name = \"vgg\"\n",
        "\n",
        "# Batch size for training (change depending on how much memory you have)\n",
        "batch_size = 8\n",
        "# Flag for feature extracting. When False, we finetune the whole model,\n",
        "#   when True we only update the reshaped layer params\n",
        "feature_extract = True"
      ],
      "execution_count": 52,
      "outputs": [
        {
          "output_type": "stream",
          "text": [
            "PyTorch Version:  1.4.0\n",
            "Torchvision Version:  0.5.0\n"
          ],
          "name": "stdout"
        }
      ]
    },
    {
      "cell_type": "code",
      "metadata": {
        "colab_type": "code",
        "id": "H2oUY-0uXsF3",
        "colab": {}
      },
      "source": [
        "def train_model(model, dataloaders, criterion, optimizer, num_epochs=25):\n",
        "    since = time.time()\n",
        "\n",
        "    val_acc_history = []\n",
        "    \n",
        "    best_model_wts = copy.deepcopy(model.state_dict())\n",
        "    best_acc = 0.0\n",
        "    counter = 0\n",
        "    for epoch in range(num_epochs):\n",
        "        print('Epoch {}/{}'.format(epoch, num_epochs - 1))\n",
        "        print('-' * 10)\n",
        "\n",
        "        # Each epoch has a training and validation phase\n",
        "        for phase in ['train', 'val']:\n",
        "            if phase == 'train':\n",
        "                model.train()  # Set model to training mode\n",
        "            else:\n",
        "                model.eval()   # Set model to evaluate mode\n",
        "\n",
        "            running_loss = 0.0\n",
        "            running_corrects = 0\n",
        "\n",
        "            # Iterate over data.\n",
        "            for inputs, labels in dataloaders[phase]:\n",
        "                inputs = inputs.to(device)\n",
        "                labels = labels.to(device)\n",
        "\n",
        "                # zero the parameter gradients\n",
        "                optimizer.zero_grad()\n",
        "\n",
        "                # forward\n",
        "                # track history if only in train\n",
        "                with torch.set_grad_enabled(phase == 'train'):\n",
        "                    # Get model outputs and calculate loss\n",
        "                    # Special case for inception because in training it has an auxiliary output. In train\n",
        "                    #   mode we calculate the loss by summing the final output and the auxiliary output\n",
        "                    #   but in testing we only consider the final output.\n",
        "                    \n",
        "                    outputs = model(inputs)\n",
        "                    loss = criterion(outputs, labels)\n",
        "\n",
        "                    _, preds = torch.max(outputs, 1)\n",
        "\n",
        "                    # backward + optimize only if in training phase\n",
        "                    if phase == 'train':\n",
        "                        loss.backward()\n",
        "                        optimizer.step()\n",
        "\n",
        "                # statistics\n",
        "                running_loss += loss.item() * inputs.size(0)\n",
        "                running_corrects += torch.sum(preds == labels.data)\n",
        "     \n",
        "\n",
        "            epoch_loss = running_loss / len(dataloaders[phase].dataset)\n",
        "            epoch_acc = running_corrects.double() / len(dataloaders[phase].dataset)\n",
        "\n",
        "            print('{} Loss: {:.4f} Acc: {:.4f}'.format(phase, epoch_loss, epoch_acc))\n",
        "            if phase =='val':\n",
        "              if epoch == 0:\n",
        "                temp_acc = epoch_acc\n",
        "              elif epoch_acc <temp_acc:\n",
        "                counter += 1\n",
        "              else:\n",
        "                temp_acc = epoch_acc\n",
        "                counter = 0\n",
        "            # deep copy the model\n",
        "            if phase == 'val' and epoch_acc > best_acc:\n",
        "                best_acc = epoch_acc\n",
        "                best_model_wts = copy.deepcopy(model.state_dict())\n",
        "            if phase == 'val':\n",
        "                val_acc_history.append(epoch_acc)\n",
        "        if counter == 3 :\n",
        "            break\n",
        "\n",
        "        print()\n",
        "\n",
        "    time_elapsed = time.time() - since\n",
        "    print('Training complete in {:.0f}m {:.0f}s'.format(time_elapsed // 60, time_elapsed % 60))\n",
        "    print('Best val Acc: {:4f}'.format(best_acc))\n",
        "\n",
        "    # load best model weights\n",
        "    model.load_state_dict(best_model_wts)\n",
        "    return model, val_acc_history,best_acc"
      ],
      "execution_count": 0,
      "outputs": []
    },
    {
      "cell_type": "code",
      "metadata": {
        "id": "730Cqa7heiIb",
        "colab_type": "code",
        "colab": {}
      },
      "source": [
        "def set_parameter_requires_grad(model, feature_extracting):\n",
        "    if feature_extracting:\n",
        "        for param in model.parameters():\n",
        "            param.requires_grad = False"
      ],
      "execution_count": 0,
      "outputs": []
    },
    {
      "cell_type": "code",
      "metadata": {
        "id": "M6muYQs2xO9t",
        "colab_type": "code",
        "outputId": "7bdf09e5-ecf3-40d0-fabb-af0608e1e8fa",
        "colab": {
          "base_uri": "https://localhost:8080/",
          "height": 748
        }
      },
      "source": [
        "def initialize_model(model_name, num_classes, feature_extract, use_pretrained=True):\n",
        "    # Initialize these variables which will be set in this if statement. Each of these\n",
        "    #   variables is model specific.\n",
        "    model_ft = None\n",
        "    input_size = 0\n",
        "    if model_name == \"vgg\":\n",
        "        \"\"\" VGG11_bn\n",
        "        \"\"\"\n",
        "        model_ft = models.vgg11_bn(pretrained=use_pretrained)\n",
        "        set_parameter_requires_grad(model_ft, feature_extract)\n",
        "        num_ftrs = model_ft.classifier[6].in_features\n",
        "        model_ft.classifier[6] = nn.Linear(num_ftrs,num_classes)\n",
        "        input_size = 224\n",
        "    elif model_name == \"squeezenet\":\n",
        "        \"\"\" Squeezenet\n",
        "        \"\"\"\n",
        "        model_ft = models.squeezenet1_0(pretrained=use_pretrained)\n",
        "        set_parameter_requires_grad(model_ft, feature_extract)\n",
        "        model_ft.classifier[1] = nn.Conv2d(512, num_classes, kernel_size=(1,1), stride=(1,1))\n",
        "        model_ft.num_classes = num_classes\n",
        "        input_size = 224\n",
        "    else:\n",
        "        print(\"Invalid model name, exiting...\")\n",
        "        exit()\n",
        "    \n",
        "    return model_ft, input_size\n",
        "\n",
        "# Initialize the model for this run\n",
        "model_ft, input_size = initialize_model(model_name, num_classes, feature_extract, use_pretrained=True)\n",
        "\n",
        "# Print the model we just instantiated\n",
        "print(model_ft)"
      ],
      "execution_count": 53,
      "outputs": [
        {
          "output_type": "stream",
          "text": [
            "VGG(\n",
            "  (features): Sequential(\n",
            "    (0): Conv2d(3, 64, kernel_size=(3, 3), stride=(1, 1), padding=(1, 1))\n",
            "    (1): BatchNorm2d(64, eps=1e-05, momentum=0.1, affine=True, track_running_stats=True)\n",
            "    (2): ReLU(inplace=True)\n",
            "    (3): MaxPool2d(kernel_size=2, stride=2, padding=0, dilation=1, ceil_mode=False)\n",
            "    (4): Conv2d(64, 128, kernel_size=(3, 3), stride=(1, 1), padding=(1, 1))\n",
            "    (5): BatchNorm2d(128, eps=1e-05, momentum=0.1, affine=True, track_running_stats=True)\n",
            "    (6): ReLU(inplace=True)\n",
            "    (7): MaxPool2d(kernel_size=2, stride=2, padding=0, dilation=1, ceil_mode=False)\n",
            "    (8): Conv2d(128, 256, kernel_size=(3, 3), stride=(1, 1), padding=(1, 1))\n",
            "    (9): BatchNorm2d(256, eps=1e-05, momentum=0.1, affine=True, track_running_stats=True)\n",
            "    (10): ReLU(inplace=True)\n",
            "    (11): Conv2d(256, 256, kernel_size=(3, 3), stride=(1, 1), padding=(1, 1))\n",
            "    (12): BatchNorm2d(256, eps=1e-05, momentum=0.1, affine=True, track_running_stats=True)\n",
            "    (13): ReLU(inplace=True)\n",
            "    (14): MaxPool2d(kernel_size=2, stride=2, padding=0, dilation=1, ceil_mode=False)\n",
            "    (15): Conv2d(256, 512, kernel_size=(3, 3), stride=(1, 1), padding=(1, 1))\n",
            "    (16): BatchNorm2d(512, eps=1e-05, momentum=0.1, affine=True, track_running_stats=True)\n",
            "    (17): ReLU(inplace=True)\n",
            "    (18): Conv2d(512, 512, kernel_size=(3, 3), stride=(1, 1), padding=(1, 1))\n",
            "    (19): BatchNorm2d(512, eps=1e-05, momentum=0.1, affine=True, track_running_stats=True)\n",
            "    (20): ReLU(inplace=True)\n",
            "    (21): MaxPool2d(kernel_size=2, stride=2, padding=0, dilation=1, ceil_mode=False)\n",
            "    (22): Conv2d(512, 512, kernel_size=(3, 3), stride=(1, 1), padding=(1, 1))\n",
            "    (23): BatchNorm2d(512, eps=1e-05, momentum=0.1, affine=True, track_running_stats=True)\n",
            "    (24): ReLU(inplace=True)\n",
            "    (25): Conv2d(512, 512, kernel_size=(3, 3), stride=(1, 1), padding=(1, 1))\n",
            "    (26): BatchNorm2d(512, eps=1e-05, momentum=0.1, affine=True, track_running_stats=True)\n",
            "    (27): ReLU(inplace=True)\n",
            "    (28): MaxPool2d(kernel_size=2, stride=2, padding=0, dilation=1, ceil_mode=False)\n",
            "  )\n",
            "  (avgpool): AdaptiveAvgPool2d(output_size=(7, 7))\n",
            "  (classifier): Sequential(\n",
            "    (0): Linear(in_features=25088, out_features=4096, bias=True)\n",
            "    (1): ReLU(inplace=True)\n",
            "    (2): Dropout(p=0.5, inplace=False)\n",
            "    (3): Linear(in_features=4096, out_features=4096, bias=True)\n",
            "    (4): ReLU(inplace=True)\n",
            "    (5): Dropout(p=0.5, inplace=False)\n",
            "    (6): Linear(in_features=4096, out_features=115, bias=True)\n",
            "  )\n",
            ")\n"
          ],
          "name": "stdout"
        }
      ]
    },
    {
      "cell_type": "markdown",
      "metadata": {
        "id": "-S11IChdMPgG",
        "colab_type": "text"
      },
      "source": [
        "Here we load our dataset.\n",
        "We use firstly Resize based on our model. This way our images will be transformed properly in order to be fed as input to the model.\n",
        "In the train dataset, we use some data augmention. Specifically , we use RandomHorizontalFlip, to produce some \"noise\" to our dataset, for better training.\n",
        "Finally we do some normalization to our datapoints."
      ]
    },
    {
      "cell_type": "code",
      "metadata": {
        "id": "jcYiEUoDxPUR",
        "colab_type": "code",
        "outputId": "26210452-9648-42bb-b4f6-67a927449297",
        "colab": {
          "base_uri": "https://localhost:8080/",
          "height": 34
        }
      },
      "source": [
        "# Data augmentation and normalization for training\n",
        "# Just normalization for validation\n",
        "\n",
        "data_transforms = {\n",
        "    'train': transforms.Compose([\n",
        "        transforms.RandomResizedCrop(input_size),\n",
        "        transforms.RandomHorizontalFlip(),\n",
        "        transforms.ToTensor(),\n",
        "        transforms.Normalize([0.485, 0.456, 0.406], [0.229, 0.224, 0.225])\n",
        "    ]),\n",
        "    'val': transforms.Compose([\n",
        "        transforms.Resize(input_size),\n",
        "        transforms.CenterCrop(input_size),\n",
        "        transforms.ToTensor(),\n",
        "        transforms.Normalize([0.485, 0.456, 0.406], [0.229, 0.224, 0.225])\n",
        "    ]),\n",
        "    'test': transforms.Compose([\n",
        "        transforms.Resize(input_size),\n",
        "        transforms.CenterCrop(input_size),\n",
        "        transforms.ToTensor(),\n",
        "        transforms.Normalize([0.485, 0.456, 0.406], [0.229, 0.224, 0.225])\n",
        "    ]),\n",
        "}\n",
        "\n",
        "print(\"Initializing Datasets and Dataloaders...\")\n",
        "dataset = datasets.ImageFolder(\"output/\")\n",
        "# Create training and validation datasets\n",
        "image_datasets = {x: datasets.ImageFolder(os.path.join(data_dir,x), data_transforms[x]) for x in ['train', 'val','test']}\n",
        "# Create training and validation dataloaders\n",
        "dataloaders_dict = {x: torch.utils.data.DataLoader(image_datasets[x], batch_size=batch_size, shuffle=True, num_workers=4) for x in ['train', 'val','test']}\n",
        "\n",
        "# Detect if we have a GPU available\n",
        "device = torch.device(\"cuda:0\" if torch.cuda.is_available() else \"cpu\")"
      ],
      "execution_count": 54,
      "outputs": [
        {
          "output_type": "stream",
          "text": [
            "Initializing Datasets and Dataloaders...\n"
          ],
          "name": "stdout"
        }
      ]
    },
    {
      "cell_type": "markdown",
      "metadata": {
        "id": "sPY5iZMSAPVv",
        "colab_type": "text"
      },
      "source": [
        "Here we can see some of the datapoints of our dataset. The original size of our images is 300 x 200."
      ]
    },
    {
      "cell_type": "code",
      "metadata": {
        "id": "nVTLhwIMgJ6Y",
        "colab_type": "code",
        "outputId": "df6804ee-b546-41c3-e4d1-96451b088d07",
        "colab": {
          "base_uri": "https://localhost:8080/",
          "height": 106
        }
      },
      "source": [
        "def imshow(inp, title=None):\n",
        "    \"\"\"Imshow for Tensor.\"\"\"\n",
        "    inp = inp.numpy().transpose((1, 2, 0))\n",
        "    mean = np.array([0.485, 0.456, 0.406])\n",
        "    std = np.array([0.229, 0.224, 0.225])\n",
        "    inp = std * inp + mean\n",
        "    inp = np.clip(inp, 0, 1)\n",
        "    plt.imshow(inp)\n",
        "    if title is not None:\n",
        "        plt.title(title)\n",
        "    plt.pause(0.001)  # pause a bit so that plots are updated\n",
        "\n",
        "\n",
        "# Get a batch of training data\n",
        "class_names = image_datasets['train'].classes\n",
        "inputs, classes = next(iter(dataloaders_dict['train']))\n",
        "# Make a grid from batch\n",
        "out = torchvision.utils.make_grid(inputs)\n",
        "\n",
        "imshow(out, title=[class_names[x] for x in classes])"
      ],
      "execution_count": 55,
      "outputs": [
        {
          "output_type": "display_data",
          "data": {
            "image/png": "[encoded data removed]",
            "text/plain": [
              "<Figure size 432x288 with 1 Axes>"
            ]
          },
          "metadata": {
            "tags": []
          }
        }
      ]
    },
    {
      "cell_type": "markdown",
      "metadata": {
        "id": "tZSrzrZbMUAP",
        "colab_type": "text"
      },
      "source": [
        "# Fine tuning our model"
      ]
    },
    {
      "cell_type": "code",
      "metadata": {
        "id": "5iTnEMO43Z-h",
        "colab_type": "code",
        "outputId": "832f931d-bcc4-4205-e642-5718fcdd0f42",
        "colab": {
          "base_uri": "https://localhost:8080/",
          "height": 510
        }
      },
      "source": [
        "!pip3 install ax-platform "
      ],
      "execution_count": 37,
      "outputs": [
        {
          "output_type": "stream",
          "text": [
            "Collecting ax-platform\n",
            "\u001b[?25l  Downloading https://files.pythonhosted.org/packages/c3/e5/defa97540bf23447f15d142a644eed9a9d9fd1925cf1e3c4f47a49282ec0/ax_platform-0.1.9-py3-none-any.whl (499kB)\n",
            "\r\u001b[K     |▋                               | 10kB 31.0MB/s eta 0:00:01\r\u001b[K     |█▎                              | 20kB 3.1MB/s eta 0:00:01\r\u001b[K     |██                              | 30kB 4.2MB/s eta 0:00:01\r\u001b[K     |██▋                             | 40kB 2.9MB/s eta 0:00:01\r\u001b[K     |███▎                            | 51kB 3.4MB/s eta 0:00:01\r\u001b[K     |████                            | 61kB 4.0MB/s eta 0:00:01\r\u001b[K     |████▋                           | 71kB 4.3MB/s eta 0:00:01\r\u001b[K     |█████▎                          | 81kB 4.7MB/s eta 0:00:01\r\u001b[K     |██████                          | 92kB 5.2MB/s eta 0:00:01\r\u001b[K     |██████▋                         | 102kB 4.8MB/s eta 0:00:01\r\u001b[K     |███████▏                        | 112kB 4.8MB/s eta 0:00:01\r\u001b[K     |███████▉                        | 122kB 4.8MB/s eta 0:00:01\r\u001b[K     |████████▌                       | 133kB 4.8MB/s eta 0:00:01\r\u001b[K     |█████████▏                      | 143kB 4.8MB/s eta 0:00:01\r\u001b[K     |█████████▉                      | 153kB 4.8MB/s eta 0:00:01\r\u001b[K     |██████████▌                     | 163kB 4.8MB/s eta 0:00:01\r\u001b[K     |███████████▏                    | 174kB 4.8MB/s eta 0:00:01\r\u001b[K     |███████████▉                    | 184kB 4.8MB/s eta 0:00:01\r\u001b[K     |████████████▌                   | 194kB 4.8MB/s eta 0:00:01\r\u001b[K     |█████████████▏                  | 204kB 4.8MB/s eta 0:00:01\r\u001b[K     |█████████████▊                  | 215kB 4.8MB/s eta 0:00:01\r\u001b[K     |██████████████▍                 | 225kB 4.8MB/s eta 0:00:01\r\u001b[K     |███████████████                 | 235kB 4.8MB/s eta 0:00:01\r\u001b[K     |███████████████▊                | 245kB 4.8MB/s eta 0:00:01\r\u001b[K     |████████████████▍               | 256kB 4.8MB/s eta 0:00:01\r\u001b[K     |█████████████████               | 266kB 4.8MB/s eta 0:00:01\r\u001b[K     |█████████████████▊              | 276kB 4.8MB/s eta 0:00:01\r\u001b[K     |██████████████████▍             | 286kB 4.8MB/s eta 0:00:01\r\u001b[K     |███████████████████             | 296kB 4.8MB/s eta 0:00:01\r\u001b[K     |███████████████████▊            | 307kB 4.8MB/s eta 0:00:01\r\u001b[K     |████████████████████▍           | 317kB 4.8MB/s eta 0:00:01\r\u001b[K     |█████████████████████           | 327kB 4.8MB/s eta 0:00:01\r\u001b[K     |█████████████████████▋          | 337kB 4.8MB/s eta 0:00:01\r\u001b[K     |██████████████████████▎         | 348kB 4.8MB/s eta 0:00:01\r\u001b[K     |███████████████████████         | 358kB 4.8MB/s eta 0:00:01\r\u001b[K     |███████████████████████▋        | 368kB 4.8MB/s eta 0:00:01\r\u001b[K     |████████████████████████▎       | 378kB 4.8MB/s eta 0:00:01\r\u001b[K     |█████████████████████████       | 389kB 4.8MB/s eta 0:00:01\r\u001b[K     |█████████████████████████▋      | 399kB 4.8MB/s eta 0:00:01\r\u001b[K     |██████████████████████████▎     | 409kB 4.8MB/s eta 0:00:01\r\u001b[K     |███████████████████████████     | 419kB 4.8MB/s eta 0:00:01\r\u001b[K     |███████████████████████████▌    | 430kB 4.8MB/s eta 0:00:01\r\u001b[K     |████████████████████████████▏   | 440kB 4.8MB/s eta 0:00:01\r\u001b[K     |████████████████████████████▉   | 450kB 4.8MB/s eta 0:00:01\r\u001b[K     |█████████████████████████████▌  | 460kB 4.8MB/s eta 0:00:01\r\u001b[K     |██████████████████████████████▏ | 471kB 4.8MB/s eta 0:00:01\r\u001b[K     |██████████████████████████████▉ | 481kB 4.8MB/s eta 0:00:01\r\u001b[K     |███████████████████████████████▌| 491kB 4.8MB/s eta 0:00:01\r\u001b[K     |████████████████████████████████| 501kB 4.8MB/s \n",
            "\u001b[?25hRequirement already satisfied: scikit-learn in /usr/local/lib/python3.6/dist-packages (from ax-platform) (0.22.1)\n",
            "Requirement already satisfied: jinja2 in /usr/local/lib/python3.6/dist-packages (from ax-platform) (2.11.1)\n",
            "Requirement already satisfied: pandas in /usr/local/lib/python3.6/dist-packages (from ax-platform) (0.25.3)\n",
            "Requirement already satisfied: plotly in /usr/local/lib/python3.6/dist-packages (from ax-platform) (4.4.1)\n",
            "Requirement already satisfied: scipy in /usr/local/lib/python3.6/dist-packages (from ax-platform) (1.4.1)\n",
            "Collecting botorch==0.2.1\n",
            "\u001b[?25l  Downloading https://files.pythonhosted.org/packages/64/e4/d696b12a84d505e9592fb6f8458a968b19efc22e30cc517dd2d2817e27e4/botorch-0.2.1-py3-none-any.whl (221kB)\n",
            "\u001b[K     |████████████████████████████████| 225kB 22.4MB/s \n",
            "\u001b[?25hRequirement already satisfied: numpy>=1.11.0 in /usr/local/lib/python3.6/dist-packages (from scikit-learn->ax-platform) (1.17.5)\n",
            "Requirement already satisfied: joblib>=0.11 in /usr/local/lib/python3.6/dist-packages (from scikit-learn->ax-platform) (0.14.1)\n",
            "Requirement already satisfied: MarkupSafe>=0.23 in /usr/local/lib/python3.6/dist-packages (from jinja2->ax-platform) (1.1.1)\n",
            "Requirement already satisfied: python-dateutil>=2.6.1 in /usr/local/lib/python3.6/dist-packages (from pandas->ax-platform) (2.6.1)\n",
            "Requirement already satisfied: pytz>=2017.2 in /usr/local/lib/python3.6/dist-packages (from pandas->ax-platform) (2018.9)\n",
            "Requirement already satisfied: six in /usr/local/lib/python3.6/dist-packages (from plotly->ax-platform) (1.12.0)\n",
            "Requirement already satisfied: retrying>=1.3.3 in /usr/local/lib/python3.6/dist-packages (from plotly->ax-platform) (1.3.3)\n",
            "Requirement already satisfied: torch>=1.3.1 in /usr/local/lib/python3.6/dist-packages (from botorch==0.2.1->ax-platform) (1.4.0)\n",
            "Collecting gpytorch>=1.0.0\n",
            "\u001b[?25l  Downloading https://files.pythonhosted.org/packages/9c/5f/ce79e35c1a36deb25a0eac0f67bfe85fb8350eb8e19223950c3d615e5e9a/gpytorch-1.0.1.tar.gz (229kB)\n",
            "\u001b[K     |████████████████████████████████| 235kB 20.6MB/s \n",
            "\u001b[?25hBuilding wheels for collected packages: gpytorch\n",
            "  Building wheel for gpytorch (setup.py) ... \u001b[?25l\u001b[?25hdone\n",
            "  Created wheel for gpytorch: filename=gpytorch-1.0.1-py2.py3-none-any.whl size=390441 sha256=34e475e84a442cdc548f30abbd621f739945853fe31019edc041605f93902da6\n",
            "  Stored in directory: /root/.cache/pip/wheels/10/2f/7a/3328e5713d796daeec2ce8ded141d5f3837253fc3c2a5c62e0\n",
            "Successfully built gpytorch\n",
            "Installing collected packages: gpytorch, botorch, ax-platform\n",
            "Successfully installed ax-platform-0.1.9 botorch-0.2.1 gpytorch-1.0.1\n"
          ],
          "name": "stdout"
        }
      ]
    },
    {
      "cell_type": "code",
      "metadata": {
        "id": "bsXIAIAk3bK0",
        "colab_type": "code",
        "colab": {}
      },
      "source": [
        "def train_evaluate(parameterization):\n",
        "    net = train(net=model_ft, train_loader=dataloaders_dict['train'], parameters=parameterization, dtype=dtype, device=device)\n",
        "    return evaluate(\n",
        "        net=net,\n",
        "        data_loader=dataloaders_dict['val'],\n",
        "        dtype=dtype,\n",
        "        device=device,\n",
        "    )"
      ],
      "execution_count": 0,
      "outputs": []
    },
    {
      "cell_type": "markdown",
      "metadata": {
        "id": "gUmo_mDvAVBK",
        "colab_type": "text"
      },
      "source": [
        "For the Fine Tuning of our model , we have to calibrate the Learning Rate and the Momentum. These two are connected with each other. We give a range of their possible best values and we search for their best combination.\n",
        "Furthermore , we use the weight decaying , as L2 regularisation method for our model. Through different testing ranges , we made the conclusion that big weights affect negatively our dataset. So we picked a range of smaller values."
      ]
    },
    {
      "cell_type": "code",
      "metadata": {
        "id": "aEfmlSS23lEJ",
        "colab_type": "code",
        "outputId": "93b4c4b3-3e79-4330-b110-42306f554f8a",
        "colab": {
          "base_uri": "https://localhost:8080/",
          "height": 1000
        }
      },
      "source": [
        "import torch\n",
        "import numpy as np\n",
        "\n",
        "from ax.plot.contour import plot_contour\n",
        "from ax.plot.trace import optimization_trace_single_method\n",
        "from ax.service.managed_loop import optimize\n",
        "from ax.utils.notebook.plotting import render, init_notebook_plotting\n",
        "from ax.utils.tutorials.cnn_utils import load_mnist, train, evaluate, CNN\n",
        "dtype = torch.float\n",
        "best_parameters, values, experiment, model = optimize(\n",
        "    parameters=[\n",
        "        {\"name\": \"lr\", \"type\": \"range\", \"bounds\": [1e-4, 1e-1], \"log_scale\": True},\n",
        "        {\"name\": \"momentum\", \"type\": \"range\", \"bounds\": [0.9, 0.99]},\n",
        "        {\"name\": \"weights\", \"type\": \"range\", \"bounds\": [1e-8, 1e-4]},\n",
        "    ], \n",
        "    evaluation_function=train_evaluate,\n",
        "    objective_name='accuracy',\n",
        ")"
      ],
      "execution_count": 61,
      "outputs": [
        {
          "output_type": "stream",
          "text": [
            "[INFO 03-09 17:07:44] ax.modelbridge.dispatch_utils: Using Bayesian Optimization generation strategy: GenerationStrategy(name='Sobol+GPEI', steps=[Sobol for 5 arms, GPEI for subsequent arms], generated 0 arm(s) so far). Iterations after 5 will take longer to generate due to model-fitting.\n",
            "[INFO 03-09 17:07:44] ax.service.managed_loop: Started full optimization with 20 steps.\n",
            "[INFO 03-09 17:07:44] ax.service.managed_loop: Running optimization trial 1...\n",
            "[INFO 03-09 17:08:42] ax.service.managed_loop: Running optimization trial 2...\n",
            "[INFO 03-09 17:09:40] ax.service.managed_loop: Running optimization trial 3...\n",
            "[INFO 03-09 17:10:39] ax.service.managed_loop: Running optimization trial 4...\n",
            "[INFO 03-09 17:11:39] ax.service.managed_loop: Running optimization trial 5...\n",
            "[INFO 03-09 17:12:38] ax.service.managed_loop: Running optimization trial 6...\n",
            "[INFO 03-09 17:13:38] ax.service.managed_loop: Running optimization trial 7...\n",
            "[INFO 03-09 17:14:40] ax.service.managed_loop: Running optimization trial 8...\n",
            "[INFO 03-09 17:15:40] ax.service.managed_loop: Running optimization trial 9...\n",
            "[INFO 03-09 17:16:40] ax.service.managed_loop: Running optimization trial 10...\n",
            "[INFO 03-09 17:17:39] ax.service.managed_loop: Running optimization trial 11...\n",
            "[INFO 03-09 17:18:39] ax.service.managed_loop: Running optimization trial 12...\n",
            "[INFO 03-09 17:19:38] ax.service.managed_loop: Running optimization trial 13...\n",
            "[INFO 03-09 17:20:37] ax.service.managed_loop: Running optimization trial 14...\n",
            "[INFO 03-09 17:21:37] ax.service.managed_loop: Running optimization trial 15...\n",
            "[INFO 03-09 17:22:36] ax.service.managed_loop: Running optimization trial 16...\n",
            "[INFO 03-09 17:23:35] ax.service.managed_loop: Running optimization trial 17...\n",
            "Exception ignored in: <bound method _MultiProcessingDataLoaderIter.__del__ of <torch.utils.data.dataloader._MultiProcessingDataLoaderIter object at 0x7f21cd446e48>>\n",
            "Traceback (most recent call last):\n",
            "  File \"/usr/local/lib/python3.6/dist-packages/torch/utils/data/dataloader.py\", line 961, in __del__\n",
            "    self._shutdown_workers()\n",
            "  File \"/usr/local/lib/python3.6/dist-packages/torch/utils/data/dataloader.py\", line 941, in _shutdown_workers\n",
            "    w.join()\n",
            "  File \"/usr/lib/python3.6/multiprocessing/process.py\", line 122, in join\n",
            "    assert self._parent_pid == os.getpid(), 'can only join a child process'\n",
            "AssertionError: can only join a child process\n",
            "Exception ignored in: <bound method _MultiProcessingDataLoaderIter.__del__ of <torch.utils.data.dataloader._MultiProcessingDataLoaderIter object at 0x7f21cd446e48>>\n",
            "Traceback (most recent call last):\n",
            "Exception ignored in: <bound method _MultiProcessingDataLoaderIter.__del__ of <torch.utils.data.dataloader._MultiProcessingDataLoaderIter object at 0x7f21a60bb940>>\n",
            "  File \"/usr/local/lib/python3.6/dist-packages/torch/utils/data/dataloader.py\", line 961, in __del__\n",
            "    self._shutdown_workers()\n",
            "Traceback (most recent call last):\n",
            "  File \"/usr/local/lib/python3.6/dist-packages/torch/utils/data/dataloader.py\", line 941, in _shutdown_workers\n",
            "  File \"/usr/local/lib/python3.6/dist-packages/torch/utils/data/dataloader.py\", line 961, in __del__\n",
            "    w.join()\n",
            "    self._shutdown_workers()\n",
            "  File \"/usr/lib/python3.6/multiprocessing/process.py\", line 122, in join\n",
            "  File \"/usr/local/lib/python3.6/dist-packages/torch/utils/data/dataloader.py\", line 941, in _shutdown_workers\n",
            "    w.join()\n",
            "    assert self._parent_pid == os.getpid(), 'can only join a child process'\n",
            "  File \"/usr/lib/python3.6/multiprocessing/process.py\", line 122, in join\n",
            "AssertionError: can only join a child process\n",
            "    assert self._parent_pid == os.getpid(), 'can only join a child process'\n",
            "AssertionError: can only join a child process\n",
            "Exception ignored in: <bound method _MultiProcessingDataLoaderIter.__del__ of <torch.utils.data.dataloader._MultiProcessingDataLoaderIter object at 0x7f21a60bb940>>\n",
            "Traceback (most recent call last):\n",
            "  File \"/usr/local/lib/python3.6/dist-packages/torch/utils/data/dataloader.py\", line 961, in __del__\n",
            "    self._shutdown_workers()\n",
            "  File \"/usr/local/lib/python3.6/dist-packages/torch/utils/data/dataloader.py\", line 941, in _shutdown_workers\n",
            "    w.join()\n",
            "  File \"/usr/lib/python3.6/multiprocessing/process.py\", line 122, in join\n",
            "    assert self._parent_pid == os.getpid(), 'can only join a child process'\n",
            "AssertionError: can only join a child process\n",
            "Exception ignored in: <bound method _MultiProcessingDataLoaderIter.__del__ of <torch.utils.data.dataloader._MultiProcessingDataLoaderIter object at 0x7f21cd446e48>>\n",
            "Traceback (most recent call last):\n",
            "  File \"/usr/local/lib/python3.6/dist-packages/torch/utils/data/dataloader.py\", line 961, in __del__\n",
            "    self._shutdown_workers()\n",
            "  File \"/usr/local/lib/python3.6/dist-packages/torch/utils/data/dataloader.py\", line 941, in _shutdown_workers\n",
            "    w.join()\n",
            "  File \"/usr/lib/python3.6/multiprocessing/process.py\", line 122, in join\n",
            "    assert self._parent_pid == os.getpid(), 'can only join a child process'\n",
            "AssertionError: can only join a child process\n",
            "Exception ignored in: <bound method _MultiProcessingDataLoaderIter.__del__ of <torch.utils.data.dataloader._MultiProcessingDataLoaderIter object at 0x7f21a60bb940>>\n",
            "Traceback (most recent call last):\n",
            "  File \"/usr/local/lib/python3.6/dist-packages/torch/utils/data/dataloader.py\", line 961, in __del__\n",
            "    self._shutdown_workers()\n",
            "  File \"/usr/local/lib/python3.6/dist-packages/torch/utils/data/dataloader.py\", line 941, in _shutdown_workers\n",
            "    w.join()\n",
            "  File \"/usr/lib/python3.6/multiprocessing/process.py\", line 122, in join\n",
            "    assert self._parent_pid == os.getpid(), 'can only join a child process'\n",
            "AssertionError: can only join a child process\n",
            "Exception ignored in: <bound method _MultiProcessingDataLoaderIter.__del__ of <torch.utils.data.dataloader._MultiProcessingDataLoaderIter object at 0x7f21cd446e48>>\n",
            "Traceback (most recent call last):\n",
            "  File \"/usr/local/lib/python3.6/dist-packages/torch/utils/data/dataloader.py\", line 961, in __del__\n",
            "    self._shutdown_workers()\n",
            "  File \"/usr/local/lib/python3.6/dist-packages/torch/utils/data/dataloader.py\", line 941, in _shutdown_workers\n",
            "    w.join()\n",
            "  File \"/usr/lib/python3.6/multiprocessing/process.py\", line 122, in join\n",
            "    assert self._parent_pid == os.getpid(), 'can only join a child process'\n",
            "AssertionError: can only join a child process\n",
            "Exception ignored in: <bound method _MultiProcessingDataLoaderIter.__del__ of <torch.utils.data.dataloader._MultiProcessingDataLoaderIter object at 0x7f21a60bb940>>\n",
            "Traceback (most recent call last):\n",
            "  File \"/usr/local/lib/python3.6/dist-packages/torch/utils/data/dataloader.py\", line 961, in __del__\n",
            "    self._shutdown_workers()\n",
            "  File \"/usr/local/lib/python3.6/dist-packages/torch/utils/data/dataloader.py\", line 941, in _shutdown_workers\n",
            "    w.join()\n",
            "  File \"/usr/lib/python3.6/multiprocessing/process.py\", line 122, in join\n",
            "    assert self._parent_pid == os.getpid(), 'can only join a child process'\n",
            "AssertionError: can only join a child process\n",
            "[INFO 03-09 17:24:35] ax.service.managed_loop: Running optimization trial 18...\n",
            "[INFO 03-09 17:25:34] ax.service.managed_loop: Running optimization trial 19...\n",
            "[INFO 03-09 17:26:33] ax.service.managed_loop: Running optimization trial 20...\n"
          ],
          "name": "stderr"
        }
      ]
    },
    {
      "cell_type": "markdown",
      "metadata": {
        "id": "XA3foLpBA0y9",
        "colab_type": "text"
      },
      "source": [
        "Here we see the results of our search , presenting the best values for our hyperparemeters of our model on the current dataset."
      ]
    },
    {
      "cell_type": "code",
      "metadata": {
        "id": "nfPQuiCa3lQl",
        "colab_type": "code",
        "outputId": "0a3fa3d4-e6e3-4a4f-d343-a52e90a6f380",
        "colab": {
          "base_uri": "https://localhost:8080/",
          "height": 68
        }
      },
      "source": [
        "best_parameters"
      ],
      "execution_count": 62,
      "outputs": [
        {
          "output_type": "execute_result",
          "data": {
            "text/plain": [
              "{'lr': 0.00013597539815333,\n",
              " 'momentum': 0.9688396614789963,\n",
              " 'weights': 5.553454805076123e-05}"
            ]
          },
          "metadata": {
            "tags": []
          },
          "execution_count": 62
        }
      ]
    },
    {
      "cell_type": "markdown",
      "metadata": {
        "id": "5G9HaxHPMbkl",
        "colab_type": "text"
      },
      "source": [
        "# Training the Model"
      ]
    },
    {
      "cell_type": "markdown",
      "metadata": {
        "id": "Zmm_1J99A9Sx",
        "colab_type": "text"
      },
      "source": [
        "Here we unfreeze the last layer of our network , to adopt it to our classification problem , and we start the training based on our dataset."
      ]
    },
    {
      "cell_type": "code",
      "metadata": {
        "id": "AbV3a-NFBEDb",
        "colab_type": "code",
        "outputId": "4c3cde10-4be2-4cd7-fb43-0c08e9285d74",
        "colab": {
          "base_uri": "https://localhost:8080/",
          "height": 68
        }
      },
      "source": [
        "# Send the model to GPU\n",
        "model_ft, input_size = initialize_model(model_name, num_classes, feature_extract, use_pretrained=True)\n",
        "model_ft = model_ft.to(device)\n",
        "\n",
        "# Gather the parameters to be optimized/updated in this run. If we are\n",
        "#  finetuning we will be updating all parameters. However, if we are \n",
        "#  doing feature extract method, we will only update the parameters\n",
        "#  that we have just initialized, i.e. the parameters with requires_grad\n",
        "#  is True.\n",
        "params_to_update = model_ft.parameters()\n",
        "print(\"Params to learn:\")\n",
        "if feature_extract:\n",
        "    params_to_update = []\n",
        "    for name,param in model_ft.named_parameters():\n",
        "        if param.requires_grad == True:\n",
        "            params_to_update.append(param)\n",
        "            print(\"\\t\",name)\n",
        "else:\n",
        "    for name,param in model_ft.named_parameters():\n",
        "        if param.requires_grad == True:\n",
        "            print(\"\\t\",name)"
      ],
      "execution_count": 65,
      "outputs": [
        {
          "output_type": "stream",
          "text": [
            "Params to learn:\n",
            "\t classifier.6.weight\n",
            "\t classifier.6.bias\n"
          ],
          "name": "stdout"
        }
      ]
    },
    {
      "cell_type": "markdown",
      "metadata": {
        "id": "eEzXAAS1BehF",
        "colab_type": "text"
      },
      "source": [
        "In our training session, we re-initialize our model and we use a the best parameters we found before. In the training we must care about possible overfitting. For this reason, we check the progress of our accuracy. When a range of epochs , our model has decreasing accuracy , that means that it is overfitting and we stop its training."
      ]
    },
    {
      "cell_type": "code",
      "metadata": {
        "id": "M-mwhYjaMGHP",
        "colab_type": "code",
        "outputId": "91774083-da74-4a6f-b09e-74fdc7d68251",
        "colab": {
          "base_uri": "https://localhost:8080/",
          "height": 1000
        }
      },
      "source": [
        "criterion = nn.CrossEntropyLoss()\n",
        "optimizer_ft = optim.SGD(params_to_update, lr=best_parameters['lr'], momentum=best_parameters['momentum'],weight_decay=best_parameters['weights'])\n",
        "model_ft, hist,best_acc = train_model(model_ft, dataloaders_dict, criterion, optimizer_ft, num_epochs=30)"
      ],
      "execution_count": 66,
      "outputs": [
        {
          "output_type": "stream",
          "text": [
            "Epoch 0/29\n",
            "----------\n",
            "train Loss: 3.0942 Acc: 0.4111\n",
            "val Loss: 1.2772 Acc: 0.7502\n",
            "\n",
            "Epoch 1/29\n",
            "----------\n",
            "train Loss: 1.7296 Acc: 0.6416\n",
            "val Loss: 0.8593 Acc: 0.7876\n",
            "\n",
            "Epoch 2/29\n",
            "----------\n",
            "train Loss: 1.4320 Acc: 0.6683\n",
            "val Loss: 0.7471 Acc: 0.7996\n",
            "\n",
            "Epoch 3/29\n",
            "----------\n",
            "train Loss: 1.2954 Acc: 0.6768\n",
            "val Loss: 0.6855 Acc: 0.8011\n",
            "\n",
            "Epoch 4/29\n",
            "----------\n",
            "train Loss: 1.2023 Acc: 0.6961\n",
            "val Loss: 0.6594 Acc: 0.8022\n",
            "\n",
            "Epoch 5/29\n",
            "----------\n",
            "train Loss: 1.1510 Acc: 0.7055\n",
            "val Loss: 0.6280 Acc: 0.8082\n",
            "\n",
            "Epoch 6/29\n",
            "----------\n",
            "train Loss: 1.1441 Acc: 0.6976\n",
            "val Loss: 0.6178 Acc: 0.8064\n",
            "\n",
            "Epoch 7/29\n",
            "----------\n",
            "train Loss: 1.1076 Acc: 0.7047\n",
            "val Loss: 0.6022 Acc: 0.8064\n",
            "\n",
            "Epoch 8/29\n",
            "----------\n",
            "train Loss: 1.0811 Acc: 0.7095\n",
            "val Loss: 0.5960 Acc: 0.8120\n",
            "\n",
            "Epoch 9/29\n",
            "----------\n",
            "train Loss: 1.0515 Acc: 0.7118\n",
            "val Loss: 0.5873 Acc: 0.8169\n",
            "\n",
            "Epoch 10/29\n",
            "----------\n",
            "train Loss: 1.0458 Acc: 0.7131\n",
            "val Loss: 0.5902 Acc: 0.8146\n",
            "\n",
            "Epoch 11/29\n",
            "----------\n",
            "train Loss: 1.0435 Acc: 0.7140\n",
            "val Loss: 0.5759 Acc: 0.8225\n",
            "\n",
            "Epoch 12/29\n",
            "----------\n",
            "train Loss: 1.0200 Acc: 0.7180\n",
            "val Loss: 0.5860 Acc: 0.8172\n",
            "\n",
            "Epoch 13/29\n",
            "----------\n",
            "train Loss: 1.0139 Acc: 0.7157\n",
            "val Loss: 0.5683 Acc: 0.8191\n",
            "\n",
            "Epoch 14/29\n",
            "----------\n",
            "train Loss: 0.9719 Acc: 0.7335\n",
            "val Loss: 0.5613 Acc: 0.8206\n",
            "Training complete in 15m 10s\n",
            "Best val Acc: 0.822472\n"
          ],
          "name": "stdout"
        }
      ]
    },
    {
      "cell_type": "markdown",
      "metadata": {
        "id": "qETHLfiEMlVh",
        "colab_type": "text"
      },
      "source": [
        "# Testing the model on real data"
      ]
    },
    {
      "cell_type": "code",
      "metadata": {
        "id": "ThcZMfHTzWkR",
        "colab_type": "code",
        "colab": {}
      },
      "source": [
        "def test_model(model, dataloaders): \n",
        "\n",
        "    model.eval()   # Set model to evaluate mode\n",
        "    phase ='test'\n",
        "    running_corrects = 0\n",
        "    # Iterate over data.\n",
        "    y_pred = []\n",
        "    y_actu = []\n",
        "    output = []\n",
        "    act_inputs = []\n",
        "    for inputs, labels in dataloaders[phase]:\n",
        "        inputs = inputs.to(device)\n",
        "        labels = labels.to(device)\n",
        "        outputs = model(inputs)\n",
        "        _, preds = torch.max(outputs, 1)\n",
        "        running_corrects += torch.sum(preds == labels.data)\n",
        "        y_pred.append(preds.cpu().numpy())\n",
        "        y_actu.append(labels.data.cpu().numpy())\n",
        "    acc = running_corrects.double() / len(dataloaders[phase].dataset)\n",
        "\n",
        "    print('{}Acc: {:.4f}'.format(phase, acc))\n",
        "    return y_actu,y_pred,acc"
      ],
      "execution_count": 0,
      "outputs": []
    },
    {
      "cell_type": "code",
      "metadata": {
        "id": "Cw2iWPLYM7--",
        "colab_type": "code",
        "outputId": "c2d98e66-1a09-423c-daaa-0536a13e8dc3",
        "colab": {
          "base_uri": "https://localhost:8080/",
          "height": 34
        }
      },
      "source": [
        "y_true, y_pred,best_acc = test_model(model_ft, dataloaders_dict)"
      ],
      "execution_count": 68,
      "outputs": [
        {
          "output_type": "stream",
          "text": [
            "testAcc: 0.8294\n"
          ],
          "name": "stdout"
        }
      ]
    },
    {
      "cell_type": "markdown",
      "metadata": {
        "id": "9z07O7wGMq_S",
        "colab_type": "text"
      },
      "source": [
        "# Evaluation of our model and metrics"
      ]
    },
    {
      "cell_type": "markdown",
      "metadata": {
        "id": "W0Fo0w5OCS4w",
        "colab_type": "text"
      },
      "source": [
        "For the evalution of our model, we show its confusion matrix.\n",
        "Scores like F1, precision and recall are presented as well.\n",
        "The confusion matrix due to the many classes can not be showed properly."
      ]
    },
    {
      "cell_type": "code",
      "metadata": {
        "id": "jU2sn7YNM8WQ",
        "colab_type": "code",
        "colab": {}
      },
      "source": [
        "from sklearn.metrics import confusion_matrix, f1_score, precision_score,recall_score,roc_auc_score\n",
        "import seaborn as sn\n",
        "import pandas as pd\n",
        "import matplotlib.pyplot as plt\n",
        "\n",
        "#y_true = [item for sublist in y_true for item in sublist]\n",
        "#y_pred = [item for sublist in y_pred for item in sublist]\n",
        "cm = confusion_matrix(y_true, y_pred)\n",
        "\n",
        "df_cm = pd.DataFrame(cm, range(num_classes), range(num_classes))\n",
        "sn.set(font_scale=1.4) # for label size\n",
        "sn.heatmap(df_cm, annot=True, annot_kws={\"size\": num_classes}) # font size\n",
        "\n",
        "plt.show()"
      ],
      "execution_count": 0,
      "outputs": []
    },
    {
      "cell_type": "code",
      "metadata": {
        "id": "_JqmisJo3JLc",
        "colab_type": "code",
        "outputId": "218d73b4-8596-424b-e0a1-6c4fbbfc5785",
        "colab": {
          "base_uri": "https://localhost:8080/",
          "height": 136
        }
      },
      "source": [
        "print(f1_score(y_true,y_pred,average='weighted'))\n",
        "print(precision_score(y_true, y_pred, average='weighted'))\n",
        "print(recall_score(y_true, y_pred, average='weighted'))"
      ],
      "execution_count": 72,
      "outputs": [
        {
          "output_type": "stream",
          "text": [
            "0.818607997948353\n",
            "0.8265106346089071\n",
            "0.8294198895027625\n"
          ],
          "name": "stdout"
        },
        {
          "output_type": "stream",
          "text": [
            "/usr/local/lib/python3.6/dist-packages/sklearn/metrics/_classification.py:1272: UndefinedMetricWarning:\n",
            "\n",
            "Precision is ill-defined and being set to 0.0 in labels with no predicted samples. Use `zero_division` parameter to control this behavior.\n",
            "\n"
          ],
          "name": "stderr"
        }
      ]
    },
    {
      "cell_type": "markdown",
      "metadata": {
        "id": "0oA0JJUQHEVr",
        "colab_type": "text"
      },
      "source": [
        "We see that our model, did quite good in the task. The image recognition of random objects is not a very hard task.For this reason we were expecting a good performance. However, due to our fine tuning and proper training , we managed to improve the \"simple-case\" results and get a higher accuracy percentage."
      ]
    },
    {
      "cell_type": "markdown",
      "metadata": {
        "id": "jNeWC_9sjFGJ",
        "colab_type": "text"
      },
      "source": [
        "# SqueezeNet\n"
      ]
    },
    {
      "cell_type": "code",
      "metadata": {
        "id": "t5easo4kjIpm",
        "colab_type": "code",
        "outputId": "e2eeb784-1513-48c6-9dcc-fdc21701f44a",
        "colab": {
          "base_uri": "https://localhost:8080/",
          "height": 528,
          "referenced_widgets": [
            "616fdddc2e124a9cb5cd065959df244b",
            "f6067e22359f453ea9a07dc8186463e3",
            "ab5c1a5344354ef8a4b030fc2ca70248",
            "5c33014bd926497f83208df507160959",
            "9143c10eae964b8b8f592c50982139ad",
            "12a5d6736de64dee9d73a078f4e1863b",
            "478be5e2e04d4251bc8e1f863cc2b288",
            "91f9985e44a8490a908dc3d78ec15725"
          ]
        }
      },
      "source": [
        "model_ft, input_size = initialize_model(\"squeezenet\", num_classes, feature_extract, use_pretrained=True)\n",
        "dtype = torch.float\n",
        "best_parameters, values, experiment, model = optimize(\n",
        "    parameters=[\n",
        "        {\"name\": \"lr\", \"type\": \"range\", \"bounds\": [1e-4,1e-1], \"log_scale\": True},\n",
        "        {\"name\": \"momentum\", \"type\": \"range\", \"bounds\": [0.9, 0.99]},\n",
        "        {\"name\": \"weights\", \"type\": \"range\", \"bounds\": [1e-8, 1e-4]},\n",
        "    ], \n",
        "    evaluation_function=train_evaluate,\n",
        "    objective_name='accuracy',\n",
        ")\n",
        "best_parameters"
      ],
      "execution_count": 73,
      "outputs": [
        {
          "output_type": "stream",
          "text": [
            "Downloading: \"https://download.pytorch.org/models/squeezenet1_0-a815701f.pth\" to /root/.cache/torch/checkpoints/squeezenet1_0-a815701f.pth\n"
          ],
          "name": "stderr"
        },
        {
          "output_type": "display_data",
          "data": {
            "application/vnd.jupyter.widget-view+json": {
              "model_id": "616fdddc2e124a9cb5cd065959df244b",
              "version_minor": 0,
              "version_major": 2
            },
            "text/plain": [
              "HBox(children=(IntProgress(value=0, max=5017600), HTML(value='')))"
            ]
          },
          "metadata": {
            "tags": []
          }
        },
        {
          "output_type": "stream",
          "text": [
            "[INFO 03-09 17:55:32] ax.modelbridge.dispatch_utils: Using Bayesian Optimization generation strategy: GenerationStrategy(name='Sobol+GPEI', steps=[Sobol for 5 arms, GPEI for subsequent arms], generated 0 arm(s) so far). Iterations after 5 will take longer to generate due to model-fitting.\n",
            "[INFO 03-09 17:55:32] ax.service.managed_loop: Started full optimization with 20 steps.\n",
            "[INFO 03-09 17:55:32] ax.service.managed_loop: Running optimization trial 1...\n"
          ],
          "name": "stderr"
        },
        {
          "output_type": "stream",
          "text": [
            "\n"
          ],
          "name": "stdout"
        },
        {
          "output_type": "stream",
          "text": [
            "[INFO 03-09 17:56:31] ax.service.managed_loop: Running optimization trial 2...\n",
            "[INFO 03-09 17:57:30] ax.service.managed_loop: Running optimization trial 3...\n",
            "[INFO 03-09 17:58:29] ax.service.managed_loop: Running optimization trial 4...\n",
            "[INFO 03-09 17:59:28] ax.service.managed_loop: Running optimization trial 5...\n",
            "[INFO 03-09 18:00:27] ax.service.managed_loop: Running optimization trial 6...\n",
            "[INFO 03-09 18:01:27] ax.service.managed_loop: Running optimization trial 7...\n",
            "[INFO 03-09 18:02:30] ax.service.managed_loop: Running optimization trial 8...\n",
            "[INFO 03-09 18:03:31] ax.service.managed_loop: Running optimization trial 9...\n",
            "[INFO 03-09 18:04:31] ax.service.managed_loop: Running optimization trial 10...\n",
            "[INFO 03-09 18:05:32] ax.service.managed_loop: Running optimization trial 11...\n",
            "[INFO 03-09 18:06:32] ax.service.managed_loop: Running optimization trial 12...\n",
            "[INFO 03-09 18:07:32] ax.service.managed_loop: Running optimization trial 13...\n",
            "[INFO 03-09 18:08:32] ax.service.managed_loop: Running optimization trial 14...\n",
            "[INFO 03-09 18:09:31] ax.service.managed_loop: Running optimization trial 15...\n",
            "[INFO 03-09 18:10:32] ax.service.managed_loop: Running optimization trial 16...\n",
            "[INFO 03-09 18:11:32] ax.service.managed_loop: Running optimization trial 17...\n",
            "[INFO 03-09 18:12:34] ax.service.managed_loop: Running optimization trial 18...\n",
            "[INFO 03-09 18:13:35] ax.service.managed_loop: Running optimization trial 19...\n",
            "[INFO 03-09 18:14:37] ax.service.managed_loop: Running optimization trial 20...\n"
          ],
          "name": "stderr"
        },
        {
          "output_type": "execute_result",
          "data": {
            "text/plain": [
              "{'lr': 0.0017111173483354341,\n",
              " 'momentum': 0.9506335723400116,\n",
              " 'weights': 2.067899208530784e-05}"
            ]
          },
          "metadata": {
            "tags": []
          },
          "execution_count": 73
        }
      ]
    },
    {
      "cell_type": "code",
      "metadata": {
        "id": "gUzS1P6TjvqL",
        "colab_type": "code",
        "outputId": "38e20926-2b4b-4aaa-c444-6117941f508f",
        "colab": {
          "base_uri": "https://localhost:8080/",
          "height": 51
        }
      },
      "source": [
        "model_ft, input_size = initialize_model(\"squeezenet\", num_classes, feature_extract, use_pretrained=True)\n",
        "model_ft = model_ft.to(device)\n",
        "if feature_extract:\n",
        "    params_to_update = []\n",
        "    for name,param in model_ft.named_parameters():\n",
        "        if param.requires_grad == True:\n",
        "            params_to_update.append(param)\n",
        "            print(\"\\t\",name)\n",
        "else:\n",
        "    for name,param in model_ft.named_parameters():\n",
        "        if param.requires_grad == True:\n",
        "            print(\"\\t\",name)"
      ],
      "execution_count": 74,
      "outputs": [
        {
          "output_type": "stream",
          "text": [
            "\t classifier.1.weight\n",
            "\t classifier.1.bias\n"
          ],
          "name": "stdout"
        }
      ]
    },
    {
      "cell_type": "code",
      "metadata": {
        "id": "RREpjtaFjv3O",
        "colab_type": "code",
        "outputId": "53c00f98-008b-45d9-fd7e-b3a6ce670748",
        "colab": {
          "base_uri": "https://localhost:8080/",
          "height": 1000
        }
      },
      "source": [
        "criterion = nn.CrossEntropyLoss()\n",
        "optimizer_ft = optim.SGD(params_to_update, lr=best_parameters['lr'], momentum=best_parameters['momentum'],weight_decay=best_parameters['weights'])\n",
        "model_ft, sq_hist,best_acc = train_model(model_ft, dataloaders_dict, criterion, optimizer_ft, num_epochs=30)"
      ],
      "execution_count": 75,
      "outputs": [
        {
          "output_type": "stream",
          "text": [
            "Epoch 0/29\n",
            "----------\n",
            "train Loss: 3.0111 Acc: 0.3663\n",
            "val Loss: 2.1058 Acc: 0.5457\n",
            "\n",
            "Epoch 1/29\n",
            "----------\n",
            "train Loss: 2.1850 Acc: 0.5101\n",
            "val Loss: 1.7295 Acc: 0.6146\n",
            "\n",
            "Epoch 2/29\n",
            "----------\n",
            "train Loss: 1.9015 Acc: 0.5648\n",
            "val Loss: 1.5834 Acc: 0.6438\n",
            "\n",
            "Epoch 3/29\n",
            "----------\n",
            "train Loss: 1.7893 Acc: 0.5892\n",
            "val Loss: 1.6239 Acc: 0.6494\n",
            "\n",
            "Epoch 4/29\n",
            "----------\n",
            "train Loss: 1.6714 Acc: 0.6054\n",
            "val Loss: 1.5194 Acc: 0.6625\n",
            "\n",
            "Epoch 5/29\n",
            "----------\n",
            "train Loss: 1.6074 Acc: 0.6223\n",
            "val Loss: 1.4792 Acc: 0.6753\n",
            "\n",
            "Epoch 6/29\n",
            "----------\n",
            "train Loss: 1.5735 Acc: 0.6252\n",
            "val Loss: 1.4172 Acc: 0.6824\n",
            "\n",
            "Epoch 7/29\n",
            "----------\n",
            "train Loss: 1.5120 Acc: 0.6376\n",
            "val Loss: 1.4552 Acc: 0.6734\n",
            "\n",
            "Epoch 8/29\n",
            "----------\n",
            "train Loss: 1.5041 Acc: 0.6443\n",
            "val Loss: 1.3987 Acc: 0.6790\n",
            "\n",
            "Epoch 9/29\n",
            "----------\n",
            "train Loss: 1.4166 Acc: 0.6569\n",
            "val Loss: 1.4180 Acc: 0.6884\n",
            "\n",
            "Epoch 10/29\n",
            "----------\n",
            "train Loss: 1.4004 Acc: 0.6634\n",
            "val Loss: 1.4556 Acc: 0.6745\n",
            "\n",
            "Epoch 11/29\n",
            "----------\n",
            "train Loss: 1.3839 Acc: 0.6630\n",
            "val Loss: 1.4651 Acc: 0.6794\n",
            "\n",
            "Epoch 12/29\n",
            "----------\n",
            "train Loss: 1.3705 Acc: 0.6650\n",
            "val Loss: 1.3479 Acc: 0.6828\n",
            "Training complete in 12m 55s\n",
            "Best val Acc: 0.688390\n"
          ],
          "name": "stdout"
        }
      ]
    },
    {
      "cell_type": "code",
      "metadata": {
        "id": "ztHbo4EljwF4",
        "colab_type": "code",
        "outputId": "04fb645b-d89f-478f-9276-a25be9a0f098",
        "colab": {
          "base_uri": "https://localhost:8080/",
          "height": 34
        }
      },
      "source": [
        "sq_y_true, sq_y_pred,sq_best_acc = test_model(model_ft, dataloaders_dict)"
      ],
      "execution_count": 76,
      "outputs": [
        {
          "output_type": "stream",
          "text": [
            "testAcc: 0.6678\n"
          ],
          "name": "stdout"
        }
      ]
    },
    {
      "cell_type": "code",
      "metadata": {
        "id": "ZTge7xVccqiM",
        "colab_type": "code",
        "outputId": "58b6fb03-9078-4c65-8309-343d999f6698",
        "colab": {
          "base_uri": "https://localhost:8080/",
          "height": 136
        }
      },
      "source": [
        "sq_y_true = [item for sublist in sq_y_true for item in sublist]\n",
        "sq_y_pred = [item for sublist in sq_y_pred for item in sublist]\n",
        "\n",
        "print(f1_score(sq_y_true,sq_y_pred,average='weighted'))\n",
        "print(precision_score(sq_y_true, sq_y_pred, average='weighted'))\n",
        "print(recall_score(sq_y_true, sq_y_pred, average='weighted'))"
      ],
      "execution_count": 77,
      "outputs": [
        {
          "output_type": "stream",
          "text": [
            "0.6560826855065938\n",
            "0.686335766910759\n",
            "0.6678176795580111\n"
          ],
          "name": "stdout"
        },
        {
          "output_type": "stream",
          "text": [
            "/usr/local/lib/python3.6/dist-packages/sklearn/metrics/_classification.py:1272: UndefinedMetricWarning:\n",
            "\n",
            "Precision is ill-defined and being set to 0.0 in labels with no predicted samples. Use `zero_division` parameter to control this behavior.\n",
            "\n"
          ],
          "name": "stderr"
        }
      ]
    },
    {
      "cell_type": "markdown",
      "metadata": {
        "id": "AqNpkpbXpvmK",
        "colab_type": "text"
      },
      "source": [
        "# Baseline Model\n"
      ]
    },
    {
      "cell_type": "markdown",
      "metadata": {
        "id": "d-6TlVJOC8tN",
        "colab_type": "text"
      },
      "source": [
        "For our baseline model , we will use a Sequential Network with 2 layers.\n",
        "We train the network on our train dataset , here we check as well , that our network does not overfit during its training.\n",
        "Afterwards, we test it on our testing dataset."
      ]
    },
    {
      "cell_type": "code",
      "metadata": {
        "id": "v8LorzugaSP3",
        "colab_type": "code",
        "outputId": "6eeaa182-5572-44c4-fc41-9565f1e04c2b",
        "colab": {
          "base_uri": "https://localhost:8080/",
          "height": 153
        }
      },
      "source": [
        "import torch.nn.functional as F\n",
        "my_net = nn.Sequential(\n",
        "      torch.nn.Flatten(),\n",
        "      torch.nn.Linear(224*224*3,200),\n",
        "      torch.nn.ReLU(),\n",
        "      torch.nn.Linear(200,200),\n",
        "      torch.nn.ReLU(),\n",
        "      torch.nn.Linear(200,num_classes)\n",
        "    )\n",
        "\n",
        "model_ft = my_net.to(device)\n",
        "print(my_net)"
      ],
      "execution_count": 84,
      "outputs": [
        {
          "output_type": "stream",
          "text": [
            "Sequential(\n",
            "  (0): Flatten()\n",
            "  (1): Linear(in_features=150528, out_features=200, bias=True)\n",
            "  (2): ReLU()\n",
            "  (3): Linear(in_features=200, out_features=200, bias=True)\n",
            "  (4): ReLU()\n",
            "  (5): Linear(in_features=200, out_features=115, bias=True)\n",
            ")\n"
          ],
          "name": "stdout"
        }
      ]
    },
    {
      "cell_type": "code",
      "metadata": {
        "id": "yOS1VCalmsV5",
        "colab_type": "code",
        "colab": {
          "base_uri": "https://localhost:8080/",
          "height": 717
        },
        "outputId": "f6ac5463-c1aa-4f9f-a0bf-b54bfd026401"
      },
      "source": [
        "dtype = torch.float\n",
        "best_parameters, values, experiment, model = optimize(\n",
        "    parameters=[\n",
        "        {\"name\": \"lr\", \"type\": \"range\", \"bounds\": [1e-4,1e-1], \"log_scale\": True},\n",
        "        {\"name\": \"momentum\", \"type\": \"range\", \"bounds\": [0.9, 0.99]},\n",
        "        {\"name\": \"weights\", \"type\": \"range\", \"bounds\": [1e-8, 1e-4]},\n",
        "    ], \n",
        "    evaluation_function=train_evaluate,\n",
        "    objective_name='accuracy',\n",
        ")\n",
        "best_parameters"
      ],
      "execution_count": 85,
      "outputs": [
        {
          "output_type": "stream",
          "text": [
            "[INFO 03-09 18:43:39] ax.modelbridge.dispatch_utils: Using Bayesian Optimization generation strategy: GenerationStrategy(name='Sobol+GPEI', steps=[Sobol for 5 arms, GPEI for subsequent arms], generated 0 arm(s) so far). Iterations after 5 will take longer to generate due to model-fitting.\n",
            "[INFO 03-09 18:43:39] ax.service.managed_loop: Started full optimization with 20 steps.\n",
            "[INFO 03-09 18:43:39] ax.service.managed_loop: Running optimization trial 1...\n",
            "[INFO 03-09 18:44:37] ax.service.managed_loop: Running optimization trial 2...\n",
            "[INFO 03-09 18:45:34] ax.service.managed_loop: Running optimization trial 3...\n",
            "[INFO 03-09 18:46:31] ax.service.managed_loop: Running optimization trial 4...\n",
            "[INFO 03-09 18:47:28] ax.service.managed_loop: Running optimization trial 5...\n",
            "[INFO 03-09 18:48:25] ax.service.managed_loop: Running optimization trial 6...\n",
            "[INFO 03-09 18:48:25] StandardizeY: Outcome accuracy is constant, within tolerance.\n",
            "[INFO 03-09 18:49:23] ax.service.managed_loop: Running optimization trial 7...\n",
            "[INFO 03-09 18:49:23] StandardizeY: Outcome accuracy is constant, within tolerance.\n",
            "[INFO 03-09 18:50:20] ax.service.managed_loop: Running optimization trial 8...\n",
            "[INFO 03-09 18:50:20] StandardizeY: Outcome accuracy is constant, within tolerance.\n",
            "[INFO 03-09 18:51:18] ax.service.managed_loop: Running optimization trial 9...\n",
            "[INFO 03-09 18:51:18] StandardizeY: Outcome accuracy is constant, within tolerance.\n",
            "[INFO 03-09 18:52:16] ax.service.managed_loop: Running optimization trial 10...\n",
            "[INFO 03-09 18:52:16] StandardizeY: Outcome accuracy is constant, within tolerance.\n",
            "[INFO 03-09 18:53:14] ax.service.managed_loop: Running optimization trial 11...\n",
            "[INFO 03-09 18:53:14] StandardizeY: Outcome accuracy is constant, within tolerance.\n",
            "[INFO 03-09 18:54:12] ax.service.managed_loop: Running optimization trial 12...\n",
            "[INFO 03-09 18:54:12] StandardizeY: Outcome accuracy is constant, within tolerance.\n",
            "[INFO 03-09 18:55:10] ax.service.managed_loop: Running optimization trial 13...\n",
            "[INFO 03-09 18:55:10] StandardizeY: Outcome accuracy is constant, within tolerance.\n",
            "[INFO 03-09 18:56:08] ax.service.managed_loop: Running optimization trial 14...\n",
            "[INFO 03-09 18:56:08] StandardizeY: Outcome accuracy is constant, within tolerance.\n",
            "[INFO 03-09 18:57:06] ax.service.managed_loop: Running optimization trial 15...\n",
            "[INFO 03-09 18:57:06] StandardizeY: Outcome accuracy is constant, within tolerance.\n",
            "[INFO 03-09 18:58:04] ax.service.managed_loop: Running optimization trial 16...\n",
            "[INFO 03-09 18:58:04] StandardizeY: Outcome accuracy is constant, within tolerance.\n",
            "[INFO 03-09 18:59:02] ax.service.managed_loop: Running optimization trial 17...\n",
            "[INFO 03-09 18:59:02] StandardizeY: Outcome accuracy is constant, within tolerance.\n",
            "[INFO 03-09 19:00:00] ax.service.managed_loop: Running optimization trial 18...\n",
            "[INFO 03-09 19:00:00] StandardizeY: Outcome accuracy is constant, within tolerance.\n",
            "[INFO 03-09 19:00:58] ax.service.managed_loop: Running optimization trial 19...\n",
            "[INFO 03-09 19:00:58] StandardizeY: Outcome accuracy is constant, within tolerance.\n",
            "[INFO 03-09 19:01:56] ax.service.managed_loop: Running optimization trial 20...\n",
            "[INFO 03-09 19:01:56] StandardizeY: Outcome accuracy is constant, within tolerance.\n"
          ],
          "name": "stderr"
        },
        {
          "output_type": "execute_result",
          "data": {
            "text/plain": [
              "{'lr': 0.0002360921394022941,\n",
              " 'momentum': 0.9044699498545379,\n",
              " 'weights': 9.625010619130917e-05}"
            ]
          },
          "metadata": {
            "tags": []
          },
          "execution_count": 85
        }
      ]
    },
    {
      "cell_type": "code",
      "metadata": {
        "colab_type": "code",
        "id": "PZWTjf-UtPC-",
        "outputId": "1ec37d87-a995-4d89-84c7-16d722ee937a",
        "colab": {
          "base_uri": "https://localhost:8080/",
          "height": 1000
        }
      },
      "source": [
        "my_net = nn.Sequential(\n",
        "      torch.nn.Flatten(),\n",
        "      torch.nn.Linear(224*224*3,200),\n",
        "      torch.nn.ReLU(),\n",
        "      torch.nn.Linear(200,200),\n",
        "      torch.nn.ReLU(),\n",
        "      torch.nn.Linear(200,num_classes)\n",
        "    )\n",
        "\n",
        "model_ft = my_net.to(device)\n",
        "loss_fn = nn.CrossEntropyLoss()\n",
        "my_net_parameters = my_net.parameters()\n",
        "basic_optimizer = optim.SGD(my_net_parameters, lr=best_parameters['lr'], momentum=best_parameters['momentum'],weight_decay=best_parameters['weights'])\n",
        "my_net, basic_hist,basic_best_acc = train_model(my_net, dataloaders_dict, loss_fn, basic_optimizer, num_epochs=30)"
      ],
      "execution_count": 87,
      "outputs": [
        {
          "output_type": "stream",
          "text": [
            "Epoch 0/29\n",
            "----------\n",
            "train Loss: 4.6141 Acc: 0.0416\n",
            "val Loss: 4.3708 Acc: 0.0663\n",
            "\n",
            "Epoch 1/29\n",
            "----------\n",
            "train Loss: 4.3961 Acc: 0.0659\n",
            "val Loss: 4.2363 Acc: 0.0873\n",
            "\n",
            "Epoch 2/29\n",
            "----------\n",
            "train Loss: 4.2917 Acc: 0.0814\n",
            "val Loss: 4.1204 Acc: 0.1112\n",
            "\n",
            "Epoch 3/29\n",
            "----------\n",
            "train Loss: 4.2394 Acc: 0.0832\n",
            "val Loss: 4.0684 Acc: 0.1079\n",
            "\n",
            "Epoch 4/29\n",
            "----------\n",
            "train Loss: 4.1829 Acc: 0.0934\n",
            "val Loss: 4.0121 Acc: 0.1228\n",
            "\n",
            "Epoch 5/29\n",
            "----------\n",
            "train Loss: 4.1477 Acc: 0.0987\n",
            "val Loss: 3.9896 Acc: 0.1243\n",
            "\n",
            "Epoch 6/29\n",
            "----------\n",
            "train Loss: 4.1125 Acc: 0.1046\n",
            "val Loss: 3.9450 Acc: 0.1315\n",
            "\n",
            "Epoch 7/29\n",
            "----------\n",
            "train Loss: 4.0780 Acc: 0.1057\n",
            "val Loss: 3.9206 Acc: 0.1363\n",
            "\n",
            "Epoch 8/29\n",
            "----------\n",
            "train Loss: 4.0566 Acc: 0.1075\n",
            "val Loss: 3.8943 Acc: 0.1393\n",
            "\n",
            "Epoch 9/29\n",
            "----------\n",
            "train Loss: 4.0464 Acc: 0.1116\n",
            "val Loss: 3.8465 Acc: 0.1584\n",
            "\n",
            "Epoch 10/29\n",
            "----------\n",
            "train Loss: 4.0040 Acc: 0.1185\n",
            "val Loss: 3.8530 Acc: 0.1491\n",
            "\n",
            "Epoch 11/29\n",
            "----------\n",
            "train Loss: 3.9865 Acc: 0.1214\n",
            "val Loss: 3.8242 Acc: 0.1547\n",
            "\n",
            "Epoch 12/29\n",
            "----------\n",
            "train Loss: 3.9651 Acc: 0.1230\n",
            "val Loss: 3.8453 Acc: 0.1375\n",
            "Training complete in 12m 52s\n",
            "Best val Acc: 0.158427\n"
          ],
          "name": "stdout"
        }
      ]
    },
    {
      "cell_type": "code",
      "metadata": {
        "id": "sUcelVmGleiP",
        "colab_type": "code",
        "outputId": "11ede3c5-9df7-4b7b-d4fd-80ae134ac6ea",
        "colab": {
          "base_uri": "https://localhost:8080/",
          "height": 34
        }
      },
      "source": [
        "def test_basic_model(model, dataloaders): \n",
        "\n",
        "    model.eval()   # Set model to evaluate mode\n",
        "    phase ='test'\n",
        "    running_corrects = 0\n",
        "    # Iterate over data.\n",
        "    y_pred = []\n",
        "    y_actu = []\n",
        "    output = []\n",
        "    act_inputs = []\n",
        "    for inputs, labels in dataloaders[phase]:\n",
        "        inputs = inputs.to(device)\n",
        "        labels = labels.to(device)\n",
        "        outputs = model(inputs)\n",
        "        _, preds = torch.max(outputs, 1)\n",
        "        running_corrects += torch.sum(preds == labels.data)\n",
        "        y_pred.append(preds.cpu().numpy())\n",
        "        y_actu.append(labels.data.cpu().numpy())\n",
        "    acc = running_corrects.double() / len(dataloaders[phase].dataset)\n",
        "\n",
        "    print('{}Acc: {:.4f}'.format(phase, acc))\n",
        "    return y_actu,y_pred,acc\n",
        "y_true2, y_pred2,basic_acc = test_basic_model(my_net, dataloaders_dict)"
      ],
      "execution_count": 88,
      "outputs": [
        {
          "output_type": "stream",
          "text": [
            "testAcc: 0.1430\n"
          ],
          "name": "stdout"
        }
      ]
    },
    {
      "cell_type": "markdown",
      "metadata": {
        "id": "Hiku_wC0nvYF",
        "colab_type": "text"
      },
      "source": [
        "# Vgg vs SqueezeNet vs Baseline Model"
      ]
    },
    {
      "cell_type": "markdown",
      "metadata": {
        "id": "njYdNi5KDW5n",
        "colab_type": "text"
      },
      "source": [
        "Here we compare the the pretrained VGG model,against the SqueezeNet and the Baseline Model.\n",
        "As we can see from the below figure, the VGG presents the best performance, not only in the accuracy but in other metrics as well. SqueezeNet did better than the baseline model, but was worse than VGG.\n"
      ]
    },
    {
      "cell_type": "code",
      "metadata": {
        "id": "0m0M8jwASll1",
        "colab_type": "code",
        "outputId": "08579f34-68c6-4573-ef47-92e95ebf518e",
        "colab": {
          "base_uri": "https://localhost:8080/",
          "height": 315
        }
      },
      "source": [
        "\n",
        "plt.title(\"Validation Accuracy vs. Number of Training Epochs\")\n",
        "plt.xlabel(\"Training Epochs\")\n",
        "plt.ylabel(\"Validation Accuracy\")\n",
        "plt.plot(range(1,len(sq_hist)+1),sq_hist,label=\"Pretrained SqueezeNet\")\n",
        "plt.plot(range(1,len(hist)+1),hist,label=\"Pretrained VGG\")\n",
        "plt.plot(range(1,len(basic_hist)+1),basic_hist,label=\"Scratch\")\n",
        "plt.ylim((0,1.))\n",
        "plt.xticks(np.arange(0,len(hist), 1.0))\n",
        "plt.legend()\n",
        "plt.show()"
      ],
      "execution_count": 90,
      "outputs": [
        {
          "output_type": "display_data",
          "data": {
            "image/png": "[encoded data removed]",
            "text/plain": [
              "<Figure size 432x288 with 1 Axes>"
            ]
          },
          "metadata": {
            "tags": []
          }
        }
      ]
    },
    {
      "cell_type": "markdown",
      "metadata": {
        "id": "8urvZH_Tc6F0",
        "colab_type": "text"
      },
      "source": [
        "Here we can see the corresponding metrics of the baseline model."
      ]
    },
    {
      "cell_type": "code",
      "metadata": {
        "id": "BRjjAQL-5_ER",
        "colab_type": "code",
        "outputId": "2edf07af-2a24-44c9-9563-184c40c59635",
        "colab": {
          "base_uri": "https://localhost:8080/",
          "height": 136
        }
      },
      "source": [
        "y_true2 = [item for sublist in y_true2 for item in sublist]\n",
        "y_pred2 = [item for sublist in y_pred2 for item in sublist]\n",
        "print(f1_score(y_true2,y_pred2,average='weighted'))\n",
        "print(precision_score(y_true2, y_pred2, average='weighted'))\n",
        "print(recall_score(y_true2, y_pred2, average='weighted'))"
      ],
      "execution_count": 94,
      "outputs": [
        {
          "output_type": "stream",
          "text": [
            "0.0977781048597258\n",
            "0.09443255203193957\n",
            "0.14295580110497239\n"
          ],
          "name": "stdout"
        },
        {
          "output_type": "stream",
          "text": [
            "/usr/local/lib/python3.6/dist-packages/sklearn/metrics/_classification.py:1272: UndefinedMetricWarning:\n",
            "\n",
            "Precision is ill-defined and being set to 0.0 in labels with no predicted samples. Use `zero_division` parameter to control this behavior.\n",
            "\n"
          ],
          "name": "stderr"
        }
      ]
    },
    {
      "cell_type": "markdown",
      "metadata": {
        "id": "k2Q_rQlLXMfV",
        "colab_type": "text"
      },
      "source": [
        "# Conclusion\n"
      ]
    },
    {
      "cell_type": "markdown",
      "metadata": {
        "id": "_FjuPnEpXQ0_",
        "colab_type": "text"
      },
      "source": [
        "In conclusion, we fine-tuned our VGG model based on our dataset. We then trained it , we checked that our train did not lead to overfit, and tested on the test dataset.\n",
        "We followed the same procedure for the SqueezeNet as well.\n",
        "SqueezeNet showed worse performance than the VGG.\n",
        "Compared to a basic 2-layer Network , also trained on the dataset , we can see that the pretrained model has better performance. His training starts from high accuracy, since it has been already pre-trained on image recogniton, in constrast to a simple network. Therefore, the training presents not so much improvement. It mostly help our model to adopt in a better way to the particular dataset of images. The simple 2-layer Network , as a result , has very low accuracy and it would need a lot more training and with a more rich training dataset , in order to reach a score near the pre-trained model."
      ]
    },
    {
      "cell_type": "markdown",
      "metadata": {
        "id": "gA5JksQ0gI9y",
        "colab_type": "text"
      },
      "source": [
        "# References\n"
      ]
    },
    {
      "cell_type": "markdown",
      "metadata": {
        "id": "DLTjmj3TgLZ9",
        "colab_type": "text"
      },
      "source": [
        "\n",
        "\n",
        "1.   Medium. (2020).Ideas on how to fine-tune a pre-trained model in PyTorch. [online] Available at: https://medium.com/udacity-pytorch-challengers/ideas-on-how-to-fine-tune-a-pre-trained-model-in-pytorch-184c47185a20. \n",
        "\n",
        "2.   Medium. (2020). Hyper-parameter Tuning Techniques in Deep Learning. [online] Available at: https://towardsdatascience.com/hyper-parameter-tuning-techniques-in-deep-learning-4dad592c63c8 [Accessed 8 Mar. 2020].\n",
        "\n",
        "3. Medium. (2020). Simple Implementation of Densely Connected Convolutional Networks in PyTorch.. [online] Available at: https://towardsdatascience.com/simple-implementation-of-densely-connected-convolutional-networks-in-pytorch-3846978f2f36 [Accessed 8 Mar. 2020].\n",
        "\n",
        "4. L. Fei-Fei, R. Fergus and P. Perona. Learning generative visual models\n",
        "from few training examples: an incremental Bayesian approach tested on\n",
        "101 object categories. IEEE. CVPR 2004, Workshop on Generative-Model\n",
        "Based Vision. 2004\n",
        "\n",
        "5. Pytorch.org. 2020. Finetuning Torchvision Models — Pytorch Tutorials 1.2.0 Documentation. [online] Available at: <https://pytorch.org/tutorials/beginner/finetuning_torchvision_models_tutorial.html> [Accessed 9 March 2020]. \n",
        "\n",
        "\n"
      ]
    }
  ]
}